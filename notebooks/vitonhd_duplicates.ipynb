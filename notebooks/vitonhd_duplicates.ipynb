{
 "cells": [
  {
   "cell_type": "code",
   "execution_count": 1,
   "id": "c11756ae-cd46-415c-bacc-6d3ad6ee2137",
   "metadata": {},
   "outputs": [],
   "source": [
    "import os\n",
    "\n",
    "import matplotlib.pyplot as plt\n",
    "from PIL import Image\n",
    "from tqdm import tqdm\n",
    "\n",
    "try:\n",
    "    import imagehash\n",
    "except ModuleNotFoundError:\n",
    "    !pip install ImageHash\n",
    "\n",
    "\n",
    "def calculate_phashes(folder_path):\n",
    "    phashes = {}\n",
    "    for image_name in os.listdir(folder_path):\n",
    "        image_path = os.path.join(folder_path, image_name)\n",
    "        try:\n",
    "            image = Image.open(image_path)\n",
    "            phash = imagehash.phash(image)\n",
    "            phashes[image_name] = phash\n",
    "        except Exception as e:\n",
    "            print(f\"Could not process image {image_name}: {e}\")\n",
    "    return phashes\n",
    "\n",
    "\n",
    "def find_similar_images(folder1, folder2, threshold=5):\n",
    "    phashes1 = calculate_phashes(folder1)\n",
    "    phashes2 = calculate_phashes(folder2)\n",
    "\n",
    "    similar_images = []\n",
    "    exact_images = []\n",
    "\n",
    "    for name1, hash1 in tqdm(phashes1.items(), desc=\"Comparing images across folders\"):\n",
    "        for name2, hash2 in phashes2.items():\n",
    "            hamming_distance = hash1 - hash2  # Calculate Hamming distance\n",
    "            if hamming_distance == 0:\n",
    "                exact_images.append((name1, name2))\n",
    "            elif hamming_distance <= threshold:\n",
    "                similar_images.append((name1, name2, hamming_distance))\n",
    "\n",
    "    return exact_images, similar_images\n",
    "\n",
    "\n",
    "def find_duplicates_in_folder(folder_path):\n",
    "    phashes = calculate_phashes(folder_path)\n",
    "    exact_images = []\n",
    "\n",
    "    image_names = list(phashes.keys())\n",
    "    for i in tqdm(range(len(image_names)), desc=\"Finding duplicates within folder\"):\n",
    "        for j in range(i + 1, len(image_names)):\n",
    "            name1, name2 = image_names[i], image_names[j]\n",
    "            hash1, hash2 = phashes[name1], phashes[name2]\n",
    "            if hash1 - hash2 == 0:  # Exact match\n",
    "                exact_images.append((name1, name2))\n",
    "\n",
    "    return exact_images\n",
    "\n",
    "\n",
    "def plot_exact_matches(folder1, exact_images, folder2=None):\n",
    "    \"\"\"\n",
    "    Plots pairs of exact images side by side.\n",
    "    If folder2 is None, it assumes the images are from the same folder.\n",
    "    \"\"\"\n",
    "    for img1_name, img2_name in exact_images:\n",
    "        # Load images\n",
    "        img1_path = os.path.join(folder1, img1_name)\n",
    "        img2_path = os.path.join(folder2 or folder1, img2_name)\n",
    "        img1 = Image.open(img1_path).resize((77, 102))\n",
    "        img2 = Image.open(img2_path).resize((77, 102))\n",
    "\n",
    "        # Plot images side-by-side\n",
    "        plt.subplot(1, 2, 1)\n",
    "        plt.imshow(img1)\n",
    "        plt.title(f\"{'Folder 1: ' if folder2 else ''}{img1_name}\")\n",
    "        plt.axis(\"off\")\n",
    "        plt.subplot(1, 2, 2)\n",
    "        plt.imshow(img2)\n",
    "        plt.title(f\"{'Folder 2: ' if folder2 else ''}{img2_name}\")\n",
    "        plt.axis(\"off\")\n",
    "        plt.show()"
   ]
  },
  {
   "cell_type": "code",
   "execution_count": null,
   "id": "a046c894-30d6-4ef6-9652-7048d237c428",
   "metadata": {
    "scrolled": true
   },
   "outputs": [],
   "source": [
    "# Find duplicates in test (6 samples)\n",
    "folder = \"./data/vitonhd/test/cloth/\"\n",
    "exact_matches = find_duplicates_in_folder(folder)\n",
    "plot_exact_matches(folder, exact_matches)"
   ]
  },
  {
   "cell_type": "code",
   "execution_count": null,
   "id": "39d5c5a8-42d2-48df-a007-d4121a2a9fa1",
   "metadata": {
    "scrolled": true
   },
   "outputs": [],
   "source": [
    "# Find duplicates in train (108 samples)\n",
    "folder = \"./data/vitonhd/train/cloth/\"\n",
    "exact_matches = find_duplicates_in_folder(folder)\n",
    "plot_exact_matches(folder, exact_matches)"
   ]
  },
  {
   "cell_type": "code",
   "execution_count": null,
   "id": "2e0f2801-3820-492d-b49d-df6b63c8925e",
   "metadata": {
    "scrolled": true
   },
   "outputs": [],
   "source": [
    "# Example usage for finding exact and similar images across two folders\n",
    "folder1 = \"./data/vitonhd/test/cloth/\"\n",
    "folder2 = \"./data/vitonhd/train/cloth/\"\n",
    "exact_matches, similar_matches = find_similar_images(folder1, folder2)\n",
    "\n",
    "# Plot the exact matches across two folders\n",
    "plot_exact_matches(folder1, exact_matches, folder2)"
   ]
  },
  {
   "cell_type": "markdown",
   "id": "ef3654e0-033d-4841-ad26-ca61ea1c41ef",
   "metadata": {},
   "source": [
    "> As you can see, we have some false positives. Hence, we manually checked all the above plots and noted the duplicate filenames.\\\n",
    "> See the `clean_vitonhd` function in `tryoffdiff/dataset.py` for all duplicate and leaked filenames."
   ]
  }
 ],
 "metadata": {
  "kernelspec": {
   "display_name": "Python 3 (ipykernel)",
   "language": "python",
   "name": "python3"
  },
  "language_info": {
   "codemirror_mode": {
    "name": "ipython",
    "version": 3
   },
   "file_extension": ".py",
   "mimetype": "text/x-python",
   "name": "python",
   "nbconvert_exporter": "python",
   "pygments_lexer": "ipython3",
   "version": "3.11.13"
  }
 },
 "nbformat": 4,
 "nbformat_minor": 5
}
